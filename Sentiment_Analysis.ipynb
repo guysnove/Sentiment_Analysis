{
 "cells": [
  {
   "cell_type": "code",
   "execution_count": 1,
   "id": "9330db39",
   "metadata": {},
   "outputs": [],
   "source": [
    "# Import packages\n",
    "import pandas as pd\n",
    "import numpy as np\n",
    "import matplotlib.pyplot as plt\n",
    "%matplotlib inline\n",
    "from sklearn.cluster import KMeans \n",
    "from sklearn.feature_extraction.text import TfidfVectorizer\n",
    "from sklearn.decomposition import PCA\n",
    "from sklearn.preprocessing import normalize\n",
    "from sklearn.metrics import pairwise_distances\n",
    "from sklearn.metrics import accuracy_score\n",
    "from sklearn.metrics.cluster import adjusted_rand_score\n",
    "import nltk\n",
    "import string\n",
    "from nltk.tokenize import word_tokenize\n",
    "from nltk.stem.porter import PorterStemmer\n",
    "from nltk.corpus import stopwords\n",
    "from scipy.stats import multivariate_normal as mvn\n",
    "import os\n",
    "from os import path\n",
    "from PIL import Image\n",
    "#from wordcloud import WordCloud, STOPWORDS, ImageColorGenerator\n",
    "import warnings\n",
    "warnings.filterwarnings(\"ignore\")"
   ]
  },
  {
   "cell_type": "code",
   "execution_count": 2,
   "id": "e59fb9ae",
   "metadata": {},
   "outputs": [],
   "source": [
    "# Load the dataset\n",
    "df = pd.read_csv(\"SampleReviewData.csv\")"
   ]
  },
  {
   "cell_type": "code",
   "execution_count": 3,
   "id": "71c1247d",
   "metadata": {},
   "outputs": [
    {
     "data": {
      "text/html": [
       "<div>\n",
       "<style scoped>\n",
       "    .dataframe tbody tr th:only-of-type {\n",
       "        vertical-align: middle;\n",
       "    }\n",
       "\n",
       "    .dataframe tbody tr th {\n",
       "        vertical-align: top;\n",
       "    }\n",
       "\n",
       "    .dataframe thead th {\n",
       "        text-align: right;\n",
       "    }\n",
       "</style>\n",
       "<table border=\"1\" class=\"dataframe\">\n",
       "  <thead>\n",
       "    <tr style=\"text-align: right;\">\n",
       "      <th></th>\n",
       "      <th>No.</th>\n",
       "      <th>No. 2</th>\n",
       "      <th>No. 3</th>\n",
       "      <th>Time</th>\n",
       "      <th>Review text</th>\n",
       "      <th>Rater 1 - Valence</th>\n",
       "      <th>Rater 1 - Arousal</th>\n",
       "      <th>Rater 2 - Valence</th>\n",
       "      <th>Rater 2 - Arousal</th>\n",
       "    </tr>\n",
       "  </thead>\n",
       "  <tbody>\n",
       "    <tr>\n",
       "      <th>0</th>\n",
       "      <td>1</td>\n",
       "      <td>158674</td>\n",
       "      <td>247</td>\n",
       "      <td>10/27/11</td>\n",
       "      <td>The best ramen I've ever had. EVER. All of the...</td>\n",
       "      <td>9</td>\n",
       "      <td>7</td>\n",
       "      <td>7</td>\n",
       "      <td>6</td>\n",
       "    </tr>\n",
       "    <tr>\n",
       "      <th>1</th>\n",
       "      <td>2</td>\n",
       "      <td>31960</td>\n",
       "      <td>277</td>\n",
       "      <td>2/18/12</td>\n",
       "      <td>cheap, reliable, filling and open late. Dont c...</td>\n",
       "      <td>8</td>\n",
       "      <td>7</td>\n",
       "      <td>9</td>\n",
       "      <td>8</td>\n",
       "    </tr>\n",
       "    <tr>\n",
       "      <th>2</th>\n",
       "      <td>3</td>\n",
       "      <td>68445</td>\n",
       "      <td>555</td>\n",
       "      <td>5/13/13</td>\n",
       "      <td>I really don't understand why this place is ra...</td>\n",
       "      <td>2</td>\n",
       "      <td>4</td>\n",
       "      <td>1</td>\n",
       "      <td>5</td>\n",
       "    </tr>\n",
       "    <tr>\n",
       "      <th>3</th>\n",
       "      <td>4</td>\n",
       "      <td>99410</td>\n",
       "      <td>247</td>\n",
       "      <td>4/22/13</td>\n",
       "      <td>Thank god they take down your phone number so ...</td>\n",
       "      <td>5</td>\n",
       "      <td>6</td>\n",
       "      <td>7</td>\n",
       "      <td>8</td>\n",
       "    </tr>\n",
       "    <tr>\n",
       "      <th>4</th>\n",
       "      <td>5</td>\n",
       "      <td>90106</td>\n",
       "      <td>452</td>\n",
       "      <td>3/23/13</td>\n",
       "      <td>We saw the B rating on the door...we should ha...</td>\n",
       "      <td>5</td>\n",
       "      <td>7</td>\n",
       "      <td>3</td>\n",
       "      <td>6</td>\n",
       "    </tr>\n",
       "    <tr>\n",
       "      <th>...</th>\n",
       "      <td>...</td>\n",
       "      <td>...</td>\n",
       "      <td>...</td>\n",
       "      <td>...</td>\n",
       "      <td>...</td>\n",
       "      <td>...</td>\n",
       "      <td>...</td>\n",
       "      <td>...</td>\n",
       "      <td>...</td>\n",
       "    </tr>\n",
       "    <tr>\n",
       "      <th>1995</th>\n",
       "      <td>1996</td>\n",
       "      <td>88406</td>\n",
       "      <td>443</td>\n",
       "      <td>7/17/14</td>\n",
       "      <td>Delicious, fresh and carefully prepared food, ...</td>\n",
       "      <td>8</td>\n",
       "      <td>7</td>\n",
       "      <td>8</td>\n",
       "      <td>6</td>\n",
       "    </tr>\n",
       "    <tr>\n",
       "      <th>1996</th>\n",
       "      <td>1997</td>\n",
       "      <td>7776</td>\n",
       "      <td>27</td>\n",
       "      <td>3/6/13</td>\n",
       "      <td>This place is great. A perfect and tasty veget...</td>\n",
       "      <td>8</td>\n",
       "      <td>6</td>\n",
       "      <td>8</td>\n",
       "      <td>6</td>\n",
       "    </tr>\n",
       "    <tr>\n",
       "      <th>1997</th>\n",
       "      <td>1998</td>\n",
       "      <td>22754</td>\n",
       "      <td>345</td>\n",
       "      <td>8/29/14</td>\n",
       "      <td>Overall a great place. The snacks are sized fo...</td>\n",
       "      <td>9</td>\n",
       "      <td>6</td>\n",
       "      <td>7</td>\n",
       "      <td>4</td>\n",
       "    </tr>\n",
       "    <tr>\n",
       "      <th>1998</th>\n",
       "      <td>1999</td>\n",
       "      <td>15147</td>\n",
       "      <td>662</td>\n",
       "      <td>2/21/12</td>\n",
       "      <td>OMG G-O-O-D!!! I have to give credit where cre...</td>\n",
       "      <td>9</td>\n",
       "      <td>9</td>\n",
       "      <td>9</td>\n",
       "      <td>9</td>\n",
       "    </tr>\n",
       "    <tr>\n",
       "      <th>1999</th>\n",
       "      <td>2000</td>\n",
       "      <td>21976</td>\n",
       "      <td>741</td>\n",
       "      <td>7/5/12</td>\n",
       "      <td>Best brunch ever! Thanks to my dear friend who...</td>\n",
       "      <td>9</td>\n",
       "      <td>5</td>\n",
       "      <td>9</td>\n",
       "      <td>8</td>\n",
       "    </tr>\n",
       "  </tbody>\n",
       "</table>\n",
       "<p>2000 rows × 9 columns</p>\n",
       "</div>"
      ],
      "text/plain": [
       "       No.   No. 2  No. 3      Time  \\\n",
       "0        1  158674    247  10/27/11   \n",
       "1        2   31960    277   2/18/12   \n",
       "2        3   68445    555   5/13/13   \n",
       "3        4   99410    247   4/22/13   \n",
       "4        5   90106    452   3/23/13   \n",
       "...    ...     ...    ...       ...   \n",
       "1995  1996   88406    443   7/17/14   \n",
       "1996  1997    7776     27    3/6/13   \n",
       "1997  1998   22754    345   8/29/14   \n",
       "1998  1999   15147    662   2/21/12   \n",
       "1999  2000   21976    741    7/5/12   \n",
       "\n",
       "                                            Review text  Rater 1 - Valence  \\\n",
       "0     The best ramen I've ever had. EVER. All of the...                  9   \n",
       "1     cheap, reliable, filling and open late. Dont c...                  8   \n",
       "2     I really don't understand why this place is ra...                  2   \n",
       "3     Thank god they take down your phone number so ...                  5   \n",
       "4     We saw the B rating on the door...we should ha...                  5   \n",
       "...                                                 ...                ...   \n",
       "1995  Delicious, fresh and carefully prepared food, ...                  8   \n",
       "1996  This place is great. A perfect and tasty veget...                  8   \n",
       "1997  Overall a great place. The snacks are sized fo...                  9   \n",
       "1998  OMG G-O-O-D!!! I have to give credit where cre...                  9   \n",
       "1999  Best brunch ever! Thanks to my dear friend who...                  9   \n",
       "\n",
       "      Rater 1 - Arousal  Rater 2 - Valence  Rater 2 - Arousal  \n",
       "0                     7                  7                  6  \n",
       "1                     7                  9                  8  \n",
       "2                     4                  1                  5  \n",
       "3                     6                  7                  8  \n",
       "4                     7                  3                  6  \n",
       "...                 ...                ...                ...  \n",
       "1995                  7                  8                  6  \n",
       "1996                  6                  8                  6  \n",
       "1997                  6                  7                  4  \n",
       "1998                  9                  9                  9  \n",
       "1999                  5                  9                  8  \n",
       "\n",
       "[2000 rows x 9 columns]"
      ]
     },
     "execution_count": 3,
     "metadata": {},
     "output_type": "execute_result"
    }
   ],
   "source": [
    "df"
   ]
  },
  {
   "cell_type": "code",
   "execution_count": 7,
   "id": "852c2840",
   "metadata": {},
   "outputs": [],
   "source": [
    "df = df.drop(['No.', 'No. 2', 'No. 3'], axis=1, inplace =  False)"
   ]
  },
  {
   "cell_type": "code",
   "execution_count": 9,
   "id": "57f0e776",
   "metadata": {},
   "outputs": [],
   "source": [
    "#Rename columns\n",
    "df = df.rename({'Review text': 'review_text', 'Rater 1 - Valence': 'rater1_valence', 'Rater 1 - Arousal': 'rater1_arousal', 'Rater 2 - Valence':'rater2_valence', 'Rater 2 - Arousal': 'rater2_arousal'}, axis=1, inplace=False)"
   ]
  },
  {
   "cell_type": "code",
   "execution_count": 14,
   "id": "500a5719",
   "metadata": {},
   "outputs": [
    {
     "data": {
      "text/html": [
       "<div>\n",
       "<style scoped>\n",
       "    .dataframe tbody tr th:only-of-type {\n",
       "        vertical-align: middle;\n",
       "    }\n",
       "\n",
       "    .dataframe tbody tr th {\n",
       "        vertical-align: top;\n",
       "    }\n",
       "\n",
       "    .dataframe thead th {\n",
       "        text-align: right;\n",
       "    }\n",
       "</style>\n",
       "<table border=\"1\" class=\"dataframe\">\n",
       "  <thead>\n",
       "    <tr style=\"text-align: right;\">\n",
       "      <th></th>\n",
       "      <th>Time</th>\n",
       "      <th>review_text</th>\n",
       "      <th>rater1_valence</th>\n",
       "      <th>rater1_arousal</th>\n",
       "      <th>rater2_valence</th>\n",
       "      <th>rater2_arousal</th>\n",
       "    </tr>\n",
       "  </thead>\n",
       "  <tbody>\n",
       "    <tr>\n",
       "      <th>0</th>\n",
       "      <td>10/27/11</td>\n",
       "      <td>The best ramen I've ever had. EVER. All of the...</td>\n",
       "      <td>9</td>\n",
       "      <td>7</td>\n",
       "      <td>7</td>\n",
       "      <td>6</td>\n",
       "    </tr>\n",
       "    <tr>\n",
       "      <th>1</th>\n",
       "      <td>2/18/12</td>\n",
       "      <td>cheap, reliable, filling and open late. Dont c...</td>\n",
       "      <td>8</td>\n",
       "      <td>7</td>\n",
       "      <td>9</td>\n",
       "      <td>8</td>\n",
       "    </tr>\n",
       "    <tr>\n",
       "      <th>2</th>\n",
       "      <td>5/13/13</td>\n",
       "      <td>I really don't understand why this place is ra...</td>\n",
       "      <td>2</td>\n",
       "      <td>4</td>\n",
       "      <td>1</td>\n",
       "      <td>5</td>\n",
       "    </tr>\n",
       "    <tr>\n",
       "      <th>3</th>\n",
       "      <td>4/22/13</td>\n",
       "      <td>Thank god they take down your phone number so ...</td>\n",
       "      <td>5</td>\n",
       "      <td>6</td>\n",
       "      <td>7</td>\n",
       "      <td>8</td>\n",
       "    </tr>\n",
       "    <tr>\n",
       "      <th>4</th>\n",
       "      <td>3/23/13</td>\n",
       "      <td>We saw the B rating on the door...we should ha...</td>\n",
       "      <td>5</td>\n",
       "      <td>7</td>\n",
       "      <td>3</td>\n",
       "      <td>6</td>\n",
       "    </tr>\n",
       "    <tr>\n",
       "      <th>...</th>\n",
       "      <td>...</td>\n",
       "      <td>...</td>\n",
       "      <td>...</td>\n",
       "      <td>...</td>\n",
       "      <td>...</td>\n",
       "      <td>...</td>\n",
       "    </tr>\n",
       "    <tr>\n",
       "      <th>1995</th>\n",
       "      <td>7/17/14</td>\n",
       "      <td>Delicious, fresh and carefully prepared food, ...</td>\n",
       "      <td>8</td>\n",
       "      <td>7</td>\n",
       "      <td>8</td>\n",
       "      <td>6</td>\n",
       "    </tr>\n",
       "    <tr>\n",
       "      <th>1996</th>\n",
       "      <td>3/6/13</td>\n",
       "      <td>This place is great. A perfect and tasty veget...</td>\n",
       "      <td>8</td>\n",
       "      <td>6</td>\n",
       "      <td>8</td>\n",
       "      <td>6</td>\n",
       "    </tr>\n",
       "    <tr>\n",
       "      <th>1997</th>\n",
       "      <td>8/29/14</td>\n",
       "      <td>Overall a great place. The snacks are sized fo...</td>\n",
       "      <td>9</td>\n",
       "      <td>6</td>\n",
       "      <td>7</td>\n",
       "      <td>4</td>\n",
       "    </tr>\n",
       "    <tr>\n",
       "      <th>1998</th>\n",
       "      <td>2/21/12</td>\n",
       "      <td>OMG G-O-O-D!!! I have to give credit where cre...</td>\n",
       "      <td>9</td>\n",
       "      <td>9</td>\n",
       "      <td>9</td>\n",
       "      <td>9</td>\n",
       "    </tr>\n",
       "    <tr>\n",
       "      <th>1999</th>\n",
       "      <td>7/5/12</td>\n",
       "      <td>Best brunch ever! Thanks to my dear friend who...</td>\n",
       "      <td>9</td>\n",
       "      <td>5</td>\n",
       "      <td>9</td>\n",
       "      <td>8</td>\n",
       "    </tr>\n",
       "  </tbody>\n",
       "</table>\n",
       "<p>2000 rows × 6 columns</p>\n",
       "</div>"
      ],
      "text/plain": [
       "          Time                                        review_text  \\\n",
       "0     10/27/11  The best ramen I've ever had. EVER. All of the...   \n",
       "1      2/18/12  cheap, reliable, filling and open late. Dont c...   \n",
       "2      5/13/13  I really don't understand why this place is ra...   \n",
       "3      4/22/13  Thank god they take down your phone number so ...   \n",
       "4      3/23/13  We saw the B rating on the door...we should ha...   \n",
       "...        ...                                                ...   \n",
       "1995   7/17/14  Delicious, fresh and carefully prepared food, ...   \n",
       "1996    3/6/13  This place is great. A perfect and tasty veget...   \n",
       "1997   8/29/14  Overall a great place. The snacks are sized fo...   \n",
       "1998   2/21/12  OMG G-O-O-D!!! I have to give credit where cre...   \n",
       "1999    7/5/12  Best brunch ever! Thanks to my dear friend who...   \n",
       "\n",
       "      rater1_valence  rater1_arousal  rater2_valence  rater2_arousal  \n",
       "0                  9               7               7               6  \n",
       "1                  8               7               9               8  \n",
       "2                  2               4               1               5  \n",
       "3                  5               6               7               8  \n",
       "4                  5               7               3               6  \n",
       "...              ...             ...             ...             ...  \n",
       "1995               8               7               8               6  \n",
       "1996               8               6               8               6  \n",
       "1997               9               6               7               4  \n",
       "1998               9               9               9               9  \n",
       "1999               9               5               9               8  \n",
       "\n",
       "[2000 rows x 6 columns]"
      ]
     },
     "execution_count": 14,
     "metadata": {},
     "output_type": "execute_result"
    }
   ],
   "source": [
    "df"
   ]
  },
  {
   "cell_type": "code",
   "execution_count": 12,
   "id": "21415148",
   "metadata": {},
   "outputs": [
    {
     "data": {
      "text/plain": [
       "0       The best ramen I've ever had. EVER. All of the...\n",
       "1       cheap, reliable, filling and open late. Dont c...\n",
       "2       I really don't understand why this place is ra...\n",
       "3       Thank god they take down your phone number so ...\n",
       "4       We saw the B rating on the door...we should ha...\n",
       "                              ...                        \n",
       "1995    Delicious, fresh and carefully prepared food, ...\n",
       "1996    This place is great. A perfect and tasty veget...\n",
       "1997    Overall a great place. The snacks are sized fo...\n",
       "1998    OMG G-O-O-D!!! I have to give credit where cre...\n",
       "1999    Best brunch ever! Thanks to my dear friend who...\n",
       "Name: review_text, Length: 2000, dtype: object"
      ]
     },
     "execution_count": 12,
     "metadata": {},
     "output_type": "execute_result"
    }
   ],
   "source": [
    "df1"
   ]
  },
  {
   "cell_type": "markdown",
   "id": "5ddbdf6b",
   "metadata": {},
   "source": [
    "# Sentiment Analysis"
   ]
  },
  {
   "cell_type": "code",
   "execution_count": 15,
   "id": "c1592591",
   "metadata": {},
   "outputs": [],
   "source": [
    "# Remove any 'neutral' ratings equal to 5\n",
    "df = df[df['rater1_valence'] != 5]"
   ]
  },
  {
   "cell_type": "code",
   "execution_count": 17,
   "id": "d1f928ea",
   "metadata": {},
   "outputs": [
    {
     "data": {
      "text/html": [
       "<div>\n",
       "<style scoped>\n",
       "    .dataframe tbody tr th:only-of-type {\n",
       "        vertical-align: middle;\n",
       "    }\n",
       "\n",
       "    .dataframe tbody tr th {\n",
       "        vertical-align: top;\n",
       "    }\n",
       "\n",
       "    .dataframe thead th {\n",
       "        text-align: right;\n",
       "    }\n",
       "</style>\n",
       "<table border=\"1\" class=\"dataframe\">\n",
       "  <thead>\n",
       "    <tr style=\"text-align: right;\">\n",
       "      <th></th>\n",
       "      <th>Time</th>\n",
       "      <th>review_text</th>\n",
       "      <th>rater1_valence</th>\n",
       "      <th>rater1_arousal</th>\n",
       "      <th>rater2_valence</th>\n",
       "      <th>rater2_arousal</th>\n",
       "      <th>Positively Rated</th>\n",
       "    </tr>\n",
       "  </thead>\n",
       "  <tbody>\n",
       "    <tr>\n",
       "      <th>0</th>\n",
       "      <td>10/27/11</td>\n",
       "      <td>The best ramen I've ever had. EVER. All of the...</td>\n",
       "      <td>9</td>\n",
       "      <td>7</td>\n",
       "      <td>7</td>\n",
       "      <td>6</td>\n",
       "      <td>1</td>\n",
       "    </tr>\n",
       "    <tr>\n",
       "      <th>1</th>\n",
       "      <td>2/18/12</td>\n",
       "      <td>cheap, reliable, filling and open late. Dont c...</td>\n",
       "      <td>8</td>\n",
       "      <td>7</td>\n",
       "      <td>9</td>\n",
       "      <td>8</td>\n",
       "      <td>1</td>\n",
       "    </tr>\n",
       "    <tr>\n",
       "      <th>2</th>\n",
       "      <td>5/13/13</td>\n",
       "      <td>I really don't understand why this place is ra...</td>\n",
       "      <td>2</td>\n",
       "      <td>4</td>\n",
       "      <td>1</td>\n",
       "      <td>5</td>\n",
       "      <td>0</td>\n",
       "    </tr>\n",
       "    <tr>\n",
       "      <th>5</th>\n",
       "      <td>6/25/13</td>\n",
       "      <td>this place was great.  I've tried about every ...</td>\n",
       "      <td>8</td>\n",
       "      <td>6</td>\n",
       "      <td>7</td>\n",
       "      <td>5</td>\n",
       "      <td>1</td>\n",
       "    </tr>\n",
       "    <tr>\n",
       "      <th>6</th>\n",
       "      <td>1/6/12</td>\n",
       "      <td>The pizza was okay.  Not anywhere near what th...</td>\n",
       "      <td>7</td>\n",
       "      <td>5</td>\n",
       "      <td>5</td>\n",
       "      <td>4</td>\n",
       "      <td>1</td>\n",
       "    </tr>\n",
       "    <tr>\n",
       "      <th>7</th>\n",
       "      <td>8/11/13</td>\n",
       "      <td>I don't think I can ever have any other burger...</td>\n",
       "      <td>9</td>\n",
       "      <td>9</td>\n",
       "      <td>8</td>\n",
       "      <td>8</td>\n",
       "      <td>1</td>\n",
       "    </tr>\n",
       "    <tr>\n",
       "      <th>8</th>\n",
       "      <td>1/11/11</td>\n",
       "      <td>Worth every dime. Great staff, great food, gre...</td>\n",
       "      <td>9</td>\n",
       "      <td>7</td>\n",
       "      <td>7</td>\n",
       "      <td>6</td>\n",
       "      <td>1</td>\n",
       "    </tr>\n",
       "    <tr>\n",
       "      <th>9</th>\n",
       "      <td>5/9/11</td>\n",
       "      <td>A very fun ambiance, the place is always jam p...</td>\n",
       "      <td>7</td>\n",
       "      <td>8</td>\n",
       "      <td>8</td>\n",
       "      <td>6</td>\n",
       "      <td>1</td>\n",
       "    </tr>\n",
       "    <tr>\n",
       "      <th>10</th>\n",
       "      <td>7/16/14</td>\n",
       "      <td>Very nice pizza slice, price $ 4 or 4.50 but I...</td>\n",
       "      <td>4</td>\n",
       "      <td>5</td>\n",
       "      <td>6</td>\n",
       "      <td>3</td>\n",
       "      <td>0</td>\n",
       "    </tr>\n",
       "    <tr>\n",
       "      <th>11</th>\n",
       "      <td>6/6/12</td>\n",
       "      <td>Big fan, beautiful space, very sweet manager, ...</td>\n",
       "      <td>9</td>\n",
       "      <td>5</td>\n",
       "      <td>6</td>\n",
       "      <td>7</td>\n",
       "      <td>1</td>\n",
       "    </tr>\n",
       "  </tbody>\n",
       "</table>\n",
       "</div>"
      ],
      "text/plain": [
       "        Time                                        review_text  \\\n",
       "0   10/27/11  The best ramen I've ever had. EVER. All of the...   \n",
       "1    2/18/12  cheap, reliable, filling and open late. Dont c...   \n",
       "2    5/13/13  I really don't understand why this place is ra...   \n",
       "5    6/25/13  this place was great.  I've tried about every ...   \n",
       "6     1/6/12  The pizza was okay.  Not anywhere near what th...   \n",
       "7    8/11/13  I don't think I can ever have any other burger...   \n",
       "8    1/11/11  Worth every dime. Great staff, great food, gre...   \n",
       "9     5/9/11  A very fun ambiance, the place is always jam p...   \n",
       "10   7/16/14  Very nice pizza slice, price $ 4 or 4.50 but I...   \n",
       "11    6/6/12  Big fan, beautiful space, very sweet manager, ...   \n",
       "\n",
       "    rater1_valence  rater1_arousal  rater2_valence  rater2_arousal  \\\n",
       "0                9               7               7               6   \n",
       "1                8               7               9               8   \n",
       "2                2               4               1               5   \n",
       "5                8               6               7               5   \n",
       "6                7               5               5               4   \n",
       "7                9               9               8               8   \n",
       "8                9               7               7               6   \n",
       "9                7               8               8               6   \n",
       "10               4               5               6               3   \n",
       "11               9               5               6               7   \n",
       "\n",
       "    Positively Rated  \n",
       "0                  1  \n",
       "1                  1  \n",
       "2                  0  \n",
       "5                  1  \n",
       "6                  1  \n",
       "7                  1  \n",
       "8                  1  \n",
       "9                  1  \n",
       "10                 0  \n",
       "11                 1  "
      ]
     },
     "execution_count": 17,
     "metadata": {},
     "output_type": "execute_result"
    }
   ],
   "source": [
    "# Encode r>=6 as 1 (rated positively)\n",
    "# Encode r<6 as 0 (rated poorly)\n",
    "df['Positively Rated'] = np.where(df['rater1_valence'] > 5, 1, 0)\n",
    "df.head(10)"
   ]
  },
  {
   "cell_type": "code",
   "execution_count": 18,
   "id": "04db71fb",
   "metadata": {},
   "outputs": [
    {
     "data": {
      "text/plain": [
       "0.8664202745512144"
      ]
     },
     "execution_count": 18,
     "metadata": {},
     "output_type": "execute_result"
    }
   ],
   "source": [
    "# Most ratings are positive\n",
    "df['Positively Rated'].mean()"
   ]
  },
  {
   "cell_type": "code",
   "execution_count": 19,
   "id": "ddba2177",
   "metadata": {},
   "outputs": [],
   "source": [
    "from sklearn.model_selection import train_test_split\n",
    "\n",
    "# Split data into training and test sets\n",
    "X_train, X_test, y_train, y_test = train_test_split(df['review_text'], \n",
    "                                                    df['Positively Rated'], \n",
    "                                                    random_state=0)"
   ]
  },
  {
   "cell_type": "code",
   "execution_count": 20,
   "id": "93c47852",
   "metadata": {},
   "outputs": [
    {
     "name": "stdout",
     "output_type": "stream",
     "text": [
      "X_train first entry:\n",
      "\n",
      " For starters, do make reservations, especially with the button so handily available on the yelp page.  Saturday brunch at 12pm, and while the restaurant was pretty packed, we didn't have to wait. 1.  Food: Farm House Scramble, Mushroom Omelette, and chicken sausage!  Didn't quite taste like normal food, in a good way though.  Was very delicious though!  Word of warning: chicken sausage is quite sweet, also in a good way. 2. Service: the Kitchen seems to be overstretched.  Our table, and the neighboring ones waited a while for our food. 3. Atmosphere: high ceilings, rather close quarters and loud.  Bustling with predominantly female groups and dates.  Sadly, the restaurant is located a bit out of the way.\n",
      "\n",
      "\n",
      "X_train shape:  (1420,)\n"
     ]
    }
   ],
   "source": [
    "print('X_train first entry:\\n\\n', X_train.iloc[0])\n",
    "print('\\n\\nX_train shape: ', X_train.shape)"
   ]
  },
  {
   "cell_type": "markdown",
   "id": "9d1e1b31",
   "metadata": {},
   "source": [
    "# CountVectorizer"
   ]
  },
  {
   "cell_type": "code",
   "execution_count": 21,
   "id": "af989391",
   "metadata": {},
   "outputs": [],
   "source": [
    "from sklearn.feature_extraction.text import CountVectorizer\n",
    "\n",
    "# Fit the CountVectorizer to the training data\n",
    "vect = CountVectorizer().fit(X_train)"
   ]
  },
  {
   "cell_type": "code",
   "execution_count": 22,
   "id": "76d03da9",
   "metadata": {},
   "outputs": [
    {
     "data": {
      "text/plain": [
       "['00', 'concentrated', 'grilling', 'nyc', 'situated', 'zha']"
      ]
     },
     "execution_count": 22,
     "metadata": {},
     "output_type": "execute_result"
    }
   ],
   "source": [
    "vect.get_feature_names()[::2000]"
   ]
  },
  {
   "cell_type": "code",
   "execution_count": 23,
   "id": "ff4bc8be",
   "metadata": {},
   "outputs": [
    {
     "data": {
      "text/plain": [
       "10016"
      ]
     },
     "execution_count": 23,
     "metadata": {},
     "output_type": "execute_result"
    }
   ],
   "source": [
    "len(vect.get_feature_names())"
   ]
  },
  {
   "cell_type": "code",
   "execution_count": 24,
   "id": "2642396a",
   "metadata": {},
   "outputs": [
    {
     "data": {
      "text/plain": [
       "<1420x10016 sparse matrix of type '<class 'numpy.int64'>'\n",
       "\twith 109172 stored elements in Compressed Sparse Row format>"
      ]
     },
     "execution_count": 24,
     "metadata": {},
     "output_type": "execute_result"
    }
   ],
   "source": [
    "# transform the documents in the training data to a document-term matrix\n",
    "X_train_vectorized = vect.transform(X_train)\n",
    "\n",
    "X_train_vectorized"
   ]
  },
  {
   "cell_type": "code",
   "execution_count": 25,
   "id": "386d61ea",
   "metadata": {},
   "outputs": [
    {
     "data": {
      "text/plain": [
       "LogisticRegression()"
      ]
     },
     "execution_count": 25,
     "metadata": {},
     "output_type": "execute_result"
    }
   ],
   "source": [
    "from sklearn.linear_model import LogisticRegression\n",
    "\n",
    "# Train the model\n",
    "model = LogisticRegression()\n",
    "model.fit(X_train_vectorized, y_train)"
   ]
  },
  {
   "cell_type": "code",
   "execution_count": 26,
   "id": "ced7d508",
   "metadata": {},
   "outputs": [
    {
     "name": "stdout",
     "output_type": "stream",
     "text": [
      "AUC:  0.7436565867222802\n"
     ]
    }
   ],
   "source": [
    "from sklearn.metrics import roc_auc_score\n",
    "\n",
    "# Predict the transformed test documents\n",
    "predictions = model.predict(vect.transform(X_test))\n",
    "\n",
    "print('AUC: ', roc_auc_score(y_test, predictions))"
   ]
  },
  {
   "cell_type": "code",
   "execution_count": 27,
   "id": "c7d5572d",
   "metadata": {},
   "outputs": [
    {
     "name": "stdout",
     "output_type": "stream",
     "text": [
      "Smallest Coefs:\n",
      "['bad' 'rude' 'way' 'overpriced' 'ok' 'other' 'not' 'rated' 'disappointed'\n",
      " 'won']\n",
      "\n",
      "Largest Coefs: \n",
      "['delicious' 'great' 'amazing' 'little' 'excellent' 'say' 'best' 'tasty'\n",
      " 'super' 'fantastic']\n"
     ]
    }
   ],
   "source": [
    "# get the feature names as numpy array\n",
    "feature_names = np.array(vect.get_feature_names())\n",
    "\n",
    "# Sort the coefficients from the model\n",
    "sorted_coef_index = model.coef_[0].argsort()\n",
    "\n",
    "# Find the 10 smallest and 10 largest coefficients\n",
    "# The 10 largest coefficients are being indexed using [:-11:-1] \n",
    "# so the list returned is in order of largest to smallest\n",
    "print('Smallest Coefs:\\n{}\\n'.format(feature_names[sorted_coef_index[:10]]))\n",
    "print('Largest Coefs: \\n{}'.format(feature_names[sorted_coef_index[:-11:-1]]))"
   ]
  },
  {
   "cell_type": "code",
   "execution_count": 28,
   "id": "3171ea8b",
   "metadata": {},
   "outputs": [
    {
     "data": {
      "text/plain": [
       "2485"
      ]
     },
     "execution_count": 28,
     "metadata": {},
     "output_type": "execute_result"
    }
   ],
   "source": [
    "#Tfidf\n",
    "from sklearn.feature_extraction.text import TfidfVectorizer\n",
    "\n",
    "# Fit the TfidfVectorizer to the training data specifiying a minimum document frequency of 5\n",
    "vect = TfidfVectorizer(min_df=5).fit(X_train)\n",
    "len(vect.get_feature_names())"
   ]
  },
  {
   "cell_type": "code",
   "execution_count": 43,
   "id": "29ac71ac",
   "metadata": {},
   "outputs": [
    {
     "name": "stdout",
     "output_type": "stream",
     "text": [
      "AUC:  0.7119105549762486\n"
     ]
    }
   ],
   "source": [
    "X_train_vectorized = vect.transform(X_train)\n",
    "\n",
    "model = LogisticRegression()\n",
    "model.fit(X_train_vectorized, y_train)\n",
    "\n",
    "predictions = model.predict(vect.transform(X_test))\n",
    "\n",
    "print('AUC: ', roc_auc_score(y_test, predictions))"
   ]
  },
  {
   "cell_type": "code",
   "execution_count": 30,
   "id": "0b92a6b9",
   "metadata": {},
   "outputs": [
    {
     "name": "stdout",
     "output_type": "stream",
     "text": [
      "Smallest tfidf:\n",
      "['heirloom' 'cover' 'executed' 'heavily' 'sucker' 'slight' 'swear'\n",
      " 'palate' 'shredded' 'heading']\n",
      "\n",
      "Largest tfidf: \n",
      "['delicious' 'amazing' 'beer' 'sushi' 'pizza' 'bad' 'yum' 'star' 'crepe'\n",
      " 'spicy']\n"
     ]
    }
   ],
   "source": [
    "feature_names = np.array(vect.get_feature_names())\n",
    "\n",
    "sorted_tfidf_index = X_train_vectorized.max(0).toarray()[0].argsort()\n",
    "\n",
    "print('Smallest tfidf:\\n{}\\n'.format(feature_names[sorted_tfidf_index[:10]]))\n",
    "print('Largest tfidf: \\n{}'.format(feature_names[sorted_tfidf_index[:-11:-1]]))"
   ]
  },
  {
   "cell_type": "code",
   "execution_count": 31,
   "id": "08b34edb",
   "metadata": {},
   "outputs": [
    {
     "name": "stdout",
     "output_type": "stream",
     "text": [
      "Smallest Coefs:\n",
      "['not' 'bad' 'overpriced' 'rude' 'way' 'ok' 'he' 'was' 'terrible' 'us']\n",
      "\n",
      "Largest Coefs: \n",
      "['great' 'delicious' 'and' 'amazing' 'excellent' 'best' 'perfect'\n",
      " 'definitely' 'try' 'love']\n"
     ]
    }
   ],
   "source": [
    "sorted_coef_index = model.coef_[0].argsort()\n",
    "\n",
    "print('Smallest Coefs:\\n{}\\n'.format(feature_names[sorted_coef_index[:10]]))\n",
    "print('Largest Coefs: \\n{}'.format(feature_names[sorted_coef_index[:-11:-1]]))"
   ]
  },
  {
   "cell_type": "code",
   "execution_count": 33,
   "id": "587791d5",
   "metadata": {},
   "outputs": [
    {
     "name": "stdout",
     "output_type": "stream",
     "text": [
      "[1 1]\n"
     ]
    }
   ],
   "source": [
    "# These reviews are treated the same by our current model\n",
    "print(model.predict(vect.transform([\"not a good place recommend it\",\n",
    "                                    'they offer a wonderful service'])))"
   ]
  },
  {
   "cell_type": "markdown",
   "id": "5d137535",
   "metadata": {},
   "source": [
    "# n-grams"
   ]
  },
  {
   "cell_type": "code",
   "execution_count": 39,
   "id": "699f8889",
   "metadata": {},
   "outputs": [
    {
     "data": {
      "text/plain": [
       "6971"
      ]
     },
     "execution_count": 39,
     "metadata": {},
     "output_type": "execute_result"
    }
   ],
   "source": [
    "# Fit the CountVectorizer to the training data specifiying a minimum \n",
    "# document frequency of 5 and extracting 1-grams and 2-grams\n",
    "vect = CountVectorizer(min_df=5, ngram_range=(1,2)).fit(X_train)\n",
    "\n",
    "X_train_vectorized = vect.transform(X_train)\n",
    "\n",
    "len(vect.get_feature_names())"
   ]
  },
  {
   "cell_type": "code",
   "execution_count": 40,
   "id": "577da7e3",
   "metadata": {},
   "outputs": [
    {
     "name": "stdout",
     "output_type": "stream",
     "text": [
      "AUC:  0.7119105549762486\n"
     ]
    }
   ],
   "source": [
    "model = LogisticRegression()\n",
    "model.fit(X_train_vectorized, y_train)\n",
    "\n",
    "predictions = model.predict(vect.transform(X_test))\n",
    "\n",
    "print('AUC: ', roc_auc_score(y_test, predictions))"
   ]
  },
  {
   "cell_type": "code",
   "execution_count": 36,
   "id": "a6204738",
   "metadata": {},
   "outputs": [
    {
     "name": "stdout",
     "output_type": "stream",
     "text": [
      "Smallest Coefs:\n",
      "['bad' 'rude' 'way' 'overpriced' 'nothing special' 'not' 'is not' 'other'\n",
      " 'terrible' 'nothing']\n",
      "\n",
      "Largest Coefs: \n",
      "['delicious' 'great' 'amazing' 'excellent' 'to the' 'that the' 'little'\n",
      " 'say' 'best' 'tasty']\n"
     ]
    }
   ],
   "source": [
    "feature_names = np.array(vect.get_feature_names())\n",
    "\n",
    "sorted_coef_index = model.coef_[0].argsort()\n",
    "\n",
    "print('Smallest Coefs:\\n{}\\n'.format(feature_names[sorted_coef_index[:10]]))\n",
    "print('Largest Coefs: \\n{}'.format(feature_names[sorted_coef_index[:-11:-1]]))"
   ]
  },
  {
   "cell_type": "code",
   "execution_count": null,
   "id": "a7c44df2",
   "metadata": {},
   "outputs": [],
   "source": []
  },
  {
   "cell_type": "code",
   "execution_count": null,
   "id": "d95f2325",
   "metadata": {},
   "outputs": [],
   "source": []
  },
  {
   "cell_type": "code",
   "execution_count": null,
   "id": "72240c86",
   "metadata": {},
   "outputs": [],
   "source": []
  },
  {
   "cell_type": "code",
   "execution_count": null,
   "id": "a4315871",
   "metadata": {},
   "outputs": [],
   "source": []
  }
 ],
 "metadata": {
  "kernelspec": {
   "display_name": "Python 3 (ipykernel)",
   "language": "python",
   "name": "python3"
  },
  "language_info": {
   "codemirror_mode": {
    "name": "ipython",
    "version": 3
   },
   "file_extension": ".py",
   "mimetype": "text/x-python",
   "name": "python",
   "nbconvert_exporter": "python",
   "pygments_lexer": "ipython3",
   "version": "3.9.7"
  }
 },
 "nbformat": 4,
 "nbformat_minor": 5
}
